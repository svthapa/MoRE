{
 "cells": [
  {
   "cell_type": "code",
   "execution_count": null,
   "id": "e13c730e-4326-4a36-9560-96c85a7f5e04",
   "metadata": {},
   "outputs": [],
   "source": [
    "import torch\n",
    "import torch.nn as nn\n",
    "import numpy as np\n",
    "import pandas as pd\n",
    "from sklearn.manifold import TSNE\n",
    "import matplotlib.pyplot as plt\n",
    "from torch.utils.data import DataLoader, Dataset\n",
    "from torchvision.transforms import transforms\n",
    "from PIL import Image\n",
    "from skimage import exposure"
   ]
  },
  {
   "cell_type": "code",
   "execution_count": null,
   "id": "01576ee3-16bc-42ec-9ecb-1d630092c900",
   "metadata": {},
   "outputs": [],
   "source": [
    "import sys\n",
    "sys.path.append('./utils')\n",
    "from build_model import MultiModalHead"
   ]
  },
  {
   "cell_type": "code",
   "execution_count": null,
   "id": "0fe9c9e1-0c1b-4f1a-b30c-568e26d441d3",
   "metadata": {},
   "outputs": [],
   "source": [
    "model = MultiModalHead(in_dim = 128*2, out_dim = 4, ecg_drop = 0, projector=False)\n",
    "model_dict = torch.load('./saved_models/best_multimodal.pth')\n",
    "\n",
    "xray_dict = {}\n",
    "for k,v in model_dict.items():\n",
    "    if 'xray_model' in k:\n",
    "        name = k[21:]\n",
    "        xray_dict[name] = v\n",
    "\n",
    "ecg_dict = {}\n",
    "for k,v in model_dict.items():\n",
    "    if 'ecg_model' in k:\n",
    "        name = k[20:]\n",
    "        ecg_dict[name] = v\n",
    "        \n",
    "        \n",
    "proj_xray = {}\n",
    "for k,v in model_dict.items():\n",
    "    if 'projector_xray_text' in k:# and 'projector_xray' in k:\n",
    "        name = k[20:]\n",
    "        proj_xray[name] = v\n",
    "\n",
    "proj_ecg = {}\n",
    "for k,v in model_dict.items():\n",
    "    if 'projector_ecg_text' in k:# and 'projector_ecg' in k:\n",
    "        name = k[19:]\n",
    "        proj_ecg[name] = v\n",
    "        \n",
    "\n",
    "model.xray_model.vit_model.load_state_dict(xray_dict)\n",
    "model.projector_xray.load_state_dict(proj_xray)\n",
    "model.ecg_model.vit_model.load_state_dict(ecg_dict)\n",
    "model.projector_ecg.load_state_dict(proj_ecg)"
   ]
  },
  {
   "cell_type": "code",
   "execution_count": null,
   "id": "85524367-914f-4a3c-9fc6-e3e4d5adaf42",
   "metadata": {},
   "outputs": [],
   "source": [
    "chexpert = pd.read_csv('./data/chexpert_5x200.csv')\n",
    "chexpert_imgs = torch.load('./data/zero_shot_chexpert_tensor.pth')"
   ]
  },
  {
   "cell_type": "code",
   "execution_count": null,
   "id": "171088e1-58bc-41bc-a6c2-7b95de45a8a9",
   "metadata": {},
   "outputs": [],
   "source": [
    "ground_truth = chexpert[chexpert.columns[[14, 8, 11, 16]]]\n",
    "labels_indices = np.argmax(ground_truth, axis=1)"
   ]
  },
  {
   "cell_type": "code",
   "execution_count": null,
   "id": "a559e064-02fc-4279-8252-2ae7c0057db6",
   "metadata": {},
   "outputs": [],
   "source": [
    "model.eval()\n",
    "with torch.no_grad():\n",
    "    features = model.projector_xray(model.xray_model(chexpert_imgs))"
   ]
  },
  {
   "cell_type": "code",
   "execution_count": null,
   "id": "ced5134b-4fdc-4939-b36e-72e869ed9fc2",
   "metadata": {},
   "outputs": [],
   "source": [
    "features_np = features.cpu().numpy()\n",
    "tsne = TSNE(n_components=2, random_state=42)\n",
    "features_reduced = tsne.fit_transform(features_np)"
   ]
  },
  {
   "cell_type": "code",
   "execution_count": null,
   "id": "8475328a-78c1-4a33-b0f5-65c76a5d5aee",
   "metadata": {},
   "outputs": [],
   "source": [
    "plt.figure(figsize=(10, 8))\n",
    "scatter = plt.scatter(features_reduced[:, 0], features_reduced[:, 1], c=labels_indices, cmap='tab20b', alpha=0.6)\n",
    "plt.legend(handles=scatter.legend_elements()[0], labels=set(labels_indices))\n",
    "plt.title('t-SNE Visualization')\n",
    "plt.xlabel('Component 1')\n",
    "plt.ylabel('Component 2')\n",
    "plt.show()\n",
    "plt.savefig('tnse_ours.png')"
   ]
  }
 ],
 "metadata": {
  "kernelspec": {
   "display_name": "Python 3 (ipykernel)",
   "language": "python",
   "name": "python3"
  },
  "language_info": {
   "codemirror_mode": {
    "name": "ipython",
    "version": 3
   },
   "file_extension": ".py",
   "mimetype": "text/x-python",
   "name": "python",
   "nbconvert_exporter": "python",
   "pygments_lexer": "ipython3",
   "version": "3.10.11"
  }
 },
 "nbformat": 4,
 "nbformat_minor": 5
}
